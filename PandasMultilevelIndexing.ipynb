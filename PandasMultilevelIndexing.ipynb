{
  "nbformat": 4,
  "nbformat_minor": 0,
  "metadata": {
    "colab": {
      "name": "PandasMultilevelIndexing",
      "version": "0.3.2",
      "provenance": [],
      "include_colab_link": true
    },
    "kernelspec": {
      "name": "python3",
      "display_name": "Python 3"
    }
  },
  "cells": [
    {
      "cell_type": "markdown",
      "metadata": {
        "id": "view-in-github",
        "colab_type": "text"
      },
      "source": [
        "<a href=\"https://colab.research.google.com/github/anirbanghoshsbi/sklearn_tricks/blob/master/PandasMultilevelIndexing.ipynb\" target=\"_parent\"><img src=\"https://colab.research.google.com/assets/colab-badge.svg\" alt=\"Open In Colab\"/></a>"
      ]
    },
    {
      "metadata": {
        "id": "vFV-AA0tOAb1",
        "colab_type": "code",
        "colab": {}
      },
      "cell_type": "code",
      "source": [
        "import pandas as pd"
      ],
      "execution_count": 0,
      "outputs": []
    },
    {
      "metadata": {
        "id": "jXGdI5KgOCoJ",
        "colab_type": "code",
        "colab": {}
      },
      "cell_type": "code",
      "source": [
        "stocks = pd.read_csv('http://bit.ly/smallstocks')"
      ],
      "execution_count": 0,
      "outputs": []
    },
    {
      "metadata": {
        "id": "DOh4K8LtOcii",
        "colab_type": "code",
        "colab": {
          "base_uri": "https://localhost:8080/",
          "height": 328
        },
        "outputId": "703ad2e8-d2e3-47e6-defb-e039d5f6928c"
      },
      "cell_type": "code",
      "source": [
        "stocks"
      ],
      "execution_count": 3,
      "outputs": [
        {
          "output_type": "execute_result",
          "data": {
            "text/html": [
              "<div>\n",
              "<style scoped>\n",
              "    .dataframe tbody tr th:only-of-type {\n",
              "        vertical-align: middle;\n",
              "    }\n",
              "\n",
              "    .dataframe tbody tr th {\n",
              "        vertical-align: top;\n",
              "    }\n",
              "\n",
              "    .dataframe thead th {\n",
              "        text-align: right;\n",
              "    }\n",
              "</style>\n",
              "<table border=\"1\" class=\"dataframe\">\n",
              "  <thead>\n",
              "    <tr style=\"text-align: right;\">\n",
              "      <th></th>\n",
              "      <th>Date</th>\n",
              "      <th>Close</th>\n",
              "      <th>Volume</th>\n",
              "      <th>Symbol</th>\n",
              "    </tr>\n",
              "  </thead>\n",
              "  <tbody>\n",
              "    <tr>\n",
              "      <th>0</th>\n",
              "      <td>2016-10-03</td>\n",
              "      <td>31.50</td>\n",
              "      <td>14070500</td>\n",
              "      <td>CSCO</td>\n",
              "    </tr>\n",
              "    <tr>\n",
              "      <th>1</th>\n",
              "      <td>2016-10-03</td>\n",
              "      <td>112.52</td>\n",
              "      <td>21701800</td>\n",
              "      <td>AAPL</td>\n",
              "    </tr>\n",
              "    <tr>\n",
              "      <th>2</th>\n",
              "      <td>2016-10-03</td>\n",
              "      <td>57.42</td>\n",
              "      <td>19189500</td>\n",
              "      <td>MSFT</td>\n",
              "    </tr>\n",
              "    <tr>\n",
              "      <th>3</th>\n",
              "      <td>2016-10-04</td>\n",
              "      <td>113.00</td>\n",
              "      <td>29736800</td>\n",
              "      <td>AAPL</td>\n",
              "    </tr>\n",
              "    <tr>\n",
              "      <th>4</th>\n",
              "      <td>2016-10-04</td>\n",
              "      <td>57.24</td>\n",
              "      <td>20085900</td>\n",
              "      <td>MSFT</td>\n",
              "    </tr>\n",
              "    <tr>\n",
              "      <th>5</th>\n",
              "      <td>2016-10-04</td>\n",
              "      <td>31.35</td>\n",
              "      <td>18460400</td>\n",
              "      <td>CSCO</td>\n",
              "    </tr>\n",
              "    <tr>\n",
              "      <th>6</th>\n",
              "      <td>2016-10-05</td>\n",
              "      <td>57.64</td>\n",
              "      <td>16726400</td>\n",
              "      <td>MSFT</td>\n",
              "    </tr>\n",
              "    <tr>\n",
              "      <th>7</th>\n",
              "      <td>2016-10-05</td>\n",
              "      <td>31.59</td>\n",
              "      <td>11808600</td>\n",
              "      <td>CSCO</td>\n",
              "    </tr>\n",
              "    <tr>\n",
              "      <th>8</th>\n",
              "      <td>2016-10-05</td>\n",
              "      <td>113.05</td>\n",
              "      <td>21453100</td>\n",
              "      <td>AAPL</td>\n",
              "    </tr>\n",
              "  </tbody>\n",
              "</table>\n",
              "</div>"
            ],
            "text/plain": [
              "         Date   Close    Volume Symbol\n",
              "0  2016-10-03   31.50  14070500   CSCO\n",
              "1  2016-10-03  112.52  21701800   AAPL\n",
              "2  2016-10-03   57.42  19189500   MSFT\n",
              "3  2016-10-04  113.00  29736800   AAPL\n",
              "4  2016-10-04   57.24  20085900   MSFT\n",
              "5  2016-10-04   31.35  18460400   CSCO\n",
              "6  2016-10-05   57.64  16726400   MSFT\n",
              "7  2016-10-05   31.59  11808600   CSCO\n",
              "8  2016-10-05  113.05  21453100   AAPL"
            ]
          },
          "metadata": {
            "tags": []
          },
          "execution_count": 3
        }
      ]
    },
    {
      "metadata": {
        "id": "XJQs1pEuOeTa",
        "colab_type": "code",
        "colab": {
          "base_uri": "https://localhost:8080/",
          "height": 34
        },
        "outputId": "379b4739-2e3d-4ec4-b917-fe47c4e604bd"
      },
      "cell_type": "code",
      "source": [
        "stocks.index  #regular index not multiindex"
      ],
      "execution_count": 4,
      "outputs": [
        {
          "output_type": "execute_result",
          "data": {
            "text/plain": [
              "RangeIndex(start=0, stop=9, step=1)"
            ]
          },
          "metadata": {
            "tags": []
          },
          "execution_count": 4
        }
      ]
    },
    {
      "metadata": {
        "id": "pbyjuPL-Otxk",
        "colab_type": "code",
        "colab": {
          "base_uri": "https://localhost:8080/",
          "height": 102
        },
        "outputId": "23a44e14-6680-4b36-d065-8d5c9c261bec"
      },
      "cell_type": "code",
      "source": [
        "stocks.groupby('Symbol')['Close'].mean()\n",
        "#stocks.groupby(Symbol').Close.mean()"
      ],
      "execution_count": 6,
      "outputs": [
        {
          "output_type": "execute_result",
          "data": {
            "text/plain": [
              "Symbol\n",
              "AAPL    112.856667\n",
              "CSCO     31.480000\n",
              "MSFT     57.433333\n",
              "Name: Close, dtype: float64"
            ]
          },
          "metadata": {
            "tags": []
          },
          "execution_count": 6
        }
      ]
    },
    {
      "metadata": {
        "id": "yoAzQg0_O42R",
        "colab_type": "code",
        "colab": {
          "base_uri": "https://localhost:8080/",
          "height": 204
        },
        "outputId": "88c7d775-d67e-4be8-d4ef-a748543a85cf"
      },
      "cell_type": "code",
      "source": [
        "stocks.groupby(['Symbol','Date']).Close.mean()"
      ],
      "execution_count": 7,
      "outputs": [
        {
          "output_type": "execute_result",
          "data": {
            "text/plain": [
              "Symbol  Date      \n",
              "AAPL    2016-10-03    112.52\n",
              "        2016-10-04    113.00\n",
              "        2016-10-05    113.05\n",
              "CSCO    2016-10-03     31.50\n",
              "        2016-10-04     31.35\n",
              "        2016-10-05     31.59\n",
              "MSFT    2016-10-03     57.42\n",
              "        2016-10-04     57.24\n",
              "        2016-10-05     57.64\n",
              "Name: Close, dtype: float64"
            ]
          },
          "metadata": {
            "tags": []
          },
          "execution_count": 7
        }
      ]
    },
    {
      "metadata": {
        "id": "btgDHzORPQZ7",
        "colab_type": "text"
      },
      "cell_type": "markdown",
      "source": [
        "The above data is a series data with multi level index"
      ]
    },
    {
      "metadata": {
        "id": "ujauCfGEPNFx",
        "colab_type": "code",
        "colab": {}
      },
      "cell_type": "code",
      "source": [
        "# save it as series\n",
        "ser = stocks.groupby(['Symbol','Date']).Close.mean()"
      ],
      "execution_count": 0,
      "outputs": []
    },
    {
      "metadata": {
        "id": "7HOJVALKPa9I",
        "colab_type": "code",
        "colab": {
          "base_uri": "https://localhost:8080/",
          "height": 68
        },
        "outputId": "481bcb9f-60d3-4bca-82f1-875b08dbd379"
      },
      "cell_type": "code",
      "source": [
        "ser.index"
      ],
      "execution_count": 9,
      "outputs": [
        {
          "output_type": "execute_result",
          "data": {
            "text/plain": [
              "MultiIndex(levels=[['AAPL', 'CSCO', 'MSFT'], ['2016-10-03', '2016-10-04', '2016-10-05']],\n",
              "           labels=[[0, 0, 0, 1, 1, 1, 2, 2, 2], [0, 1, 2, 0, 1, 2, 0, 1, 2]],\n",
              "           names=['Symbol', 'Date'])"
            ]
          },
          "metadata": {
            "tags": []
          },
          "execution_count": 9
        }
      ]
    },
    {
      "metadata": {
        "id": "15_ZG4UEPcpw",
        "colab_type": "code",
        "colab": {
          "base_uri": "https://localhost:8080/",
          "height": 173
        },
        "outputId": "a2790234-7be8-40aa-cc86-0305bcb43fed"
      },
      "cell_type": "code",
      "source": [
        "# series is normally a single diamension but in multiindex is 2 Diamension\n",
        "# I can unstack a series 2d (due to multi index) we can unstack to one diamensional\n",
        "ser.unstack()"
      ],
      "execution_count": 10,
      "outputs": [
        {
          "output_type": "execute_result",
          "data": {
            "text/html": [
              "<div>\n",
              "<style scoped>\n",
              "    .dataframe tbody tr th:only-of-type {\n",
              "        vertical-align: middle;\n",
              "    }\n",
              "\n",
              "    .dataframe tbody tr th {\n",
              "        vertical-align: top;\n",
              "    }\n",
              "\n",
              "    .dataframe thead th {\n",
              "        text-align: right;\n",
              "    }\n",
              "</style>\n",
              "<table border=\"1\" class=\"dataframe\">\n",
              "  <thead>\n",
              "    <tr style=\"text-align: right;\">\n",
              "      <th>Date</th>\n",
              "      <th>2016-10-03</th>\n",
              "      <th>2016-10-04</th>\n",
              "      <th>2016-10-05</th>\n",
              "    </tr>\n",
              "    <tr>\n",
              "      <th>Symbol</th>\n",
              "      <th></th>\n",
              "      <th></th>\n",
              "      <th></th>\n",
              "    </tr>\n",
              "  </thead>\n",
              "  <tbody>\n",
              "    <tr>\n",
              "      <th>AAPL</th>\n",
              "      <td>112.52</td>\n",
              "      <td>113.00</td>\n",
              "      <td>113.05</td>\n",
              "    </tr>\n",
              "    <tr>\n",
              "      <th>CSCO</th>\n",
              "      <td>31.50</td>\n",
              "      <td>31.35</td>\n",
              "      <td>31.59</td>\n",
              "    </tr>\n",
              "    <tr>\n",
              "      <th>MSFT</th>\n",
              "      <td>57.42</td>\n",
              "      <td>57.24</td>\n",
              "      <td>57.64</td>\n",
              "    </tr>\n",
              "  </tbody>\n",
              "</table>\n",
              "</div>"
            ],
            "text/plain": [
              "Date    2016-10-03  2016-10-04  2016-10-05\n",
              "Symbol                                    \n",
              "AAPL        112.52      113.00      113.05\n",
              "CSCO         31.50       31.35       31.59\n",
              "MSFT         57.42       57.24       57.64"
            ]
          },
          "metadata": {
            "tags": []
          },
          "execution_count": 10
        }
      ]
    },
    {
      "metadata": {
        "id": "x1S75dPrP7wA",
        "colab_type": "code",
        "colab": {
          "base_uri": "https://localhost:8080/",
          "height": 173
        },
        "outputId": "fd33b342-0483-4ad8-f984-f199516ef1b5"
      },
      "cell_type": "code",
      "source": [
        "# We can also do the above thing using the pivot_table\n",
        "stocks.pivot_table(values='Close',index='Symbol',columns='Date')"
      ],
      "execution_count": 12,
      "outputs": [
        {
          "output_type": "execute_result",
          "data": {
            "text/html": [
              "<div>\n",
              "<style scoped>\n",
              "    .dataframe tbody tr th:only-of-type {\n",
              "        vertical-align: middle;\n",
              "    }\n",
              "\n",
              "    .dataframe tbody tr th {\n",
              "        vertical-align: top;\n",
              "    }\n",
              "\n",
              "    .dataframe thead th {\n",
              "        text-align: right;\n",
              "    }\n",
              "</style>\n",
              "<table border=\"1\" class=\"dataframe\">\n",
              "  <thead>\n",
              "    <tr style=\"text-align: right;\">\n",
              "      <th>Date</th>\n",
              "      <th>2016-10-03</th>\n",
              "      <th>2016-10-04</th>\n",
              "      <th>2016-10-05</th>\n",
              "    </tr>\n",
              "    <tr>\n",
              "      <th>Symbol</th>\n",
              "      <th></th>\n",
              "      <th></th>\n",
              "      <th></th>\n",
              "    </tr>\n",
              "  </thead>\n",
              "  <tbody>\n",
              "    <tr>\n",
              "      <th>AAPL</th>\n",
              "      <td>112.52</td>\n",
              "      <td>113.00</td>\n",
              "      <td>113.05</td>\n",
              "    </tr>\n",
              "    <tr>\n",
              "      <th>CSCO</th>\n",
              "      <td>31.50</td>\n",
              "      <td>31.35</td>\n",
              "      <td>31.59</td>\n",
              "    </tr>\n",
              "    <tr>\n",
              "      <th>MSFT</th>\n",
              "      <td>57.42</td>\n",
              "      <td>57.24</td>\n",
              "      <td>57.64</td>\n",
              "    </tr>\n",
              "  </tbody>\n",
              "</table>\n",
              "</div>"
            ],
            "text/plain": [
              "Date    2016-10-03  2016-10-04  2016-10-05\n",
              "Symbol                                    \n",
              "AAPL        112.52      113.00      113.05\n",
              "CSCO         31.50       31.35       31.59\n",
              "MSFT         57.42       57.24       57.64"
            ]
          },
          "metadata": {
            "tags": []
          },
          "execution_count": 12
        }
      ]
    },
    {
      "metadata": {
        "id": "lta47RmrQQXQ",
        "colab_type": "code",
        "colab": {}
      },
      "cell_type": "code",
      "source": [
        "df =stocks.pivot_table(values='Close',index='Symbol',columns='Date')"
      ],
      "execution_count": 0,
      "outputs": []
    },
    {
      "metadata": {
        "id": "RonrXXWGQXtN",
        "colab_type": "code",
        "colab": {
          "base_uri": "https://localhost:8080/",
          "height": 204
        },
        "outputId": "128448a2-7585-46e0-b895-0ade5bdc3fa8"
      },
      "cell_type": "code",
      "source": [
        "#Selection\n",
        "ser"
      ],
      "execution_count": 14,
      "outputs": [
        {
          "output_type": "execute_result",
          "data": {
            "text/plain": [
              "Symbol  Date      \n",
              "AAPL    2016-10-03    112.52\n",
              "        2016-10-04    113.00\n",
              "        2016-10-05    113.05\n",
              "CSCO    2016-10-03     31.50\n",
              "        2016-10-04     31.35\n",
              "        2016-10-05     31.59\n",
              "MSFT    2016-10-03     57.42\n",
              "        2016-10-04     57.24\n",
              "        2016-10-05     57.64\n",
              "Name: Close, dtype: float64"
            ]
          },
          "metadata": {
            "tags": []
          },
          "execution_count": 14
        }
      ]
    },
    {
      "metadata": {
        "id": "zYDB8jFyQcPU",
        "colab_type": "code",
        "colab": {
          "base_uri": "https://localhost:8080/",
          "height": 102
        },
        "outputId": "f9b489ba-69ac-4aed-b1dc-2eff3782fad1"
      },
      "cell_type": "code",
      "source": [
        "# want apple data (selection on the outer level)\n",
        "ser.loc['AAPL']"
      ],
      "execution_count": 16,
      "outputs": [
        {
          "output_type": "execute_result",
          "data": {
            "text/plain": [
              "Date\n",
              "2016-10-03    112.52\n",
              "2016-10-04    113.00\n",
              "2016-10-05    113.05\n",
              "Name: Close, dtype: float64"
            ]
          },
          "metadata": {
            "tags": []
          },
          "execution_count": 16
        }
      ]
    },
    {
      "metadata": {
        "id": "nN8LJzn0QkbS",
        "colab_type": "code",
        "colab": {
          "base_uri": "https://localhost:8080/",
          "height": 34
        },
        "outputId": "434021cd-a640-4aa8-fd15-71ff921dcca5"
      },
      "cell_type": "code",
      "source": [
        "#apple on a date (selection on the outer and the inner level)\n",
        "ser.loc['AAPL','2016-10-03']"
      ],
      "execution_count": 17,
      "outputs": [
        {
          "output_type": "execute_result",
          "data": {
            "text/plain": [
              "112.52"
            ]
          },
          "metadata": {
            "tags": []
          },
          "execution_count": 17
        }
      ]
    },
    {
      "metadata": {
        "id": "ox8sAYFdQwG7",
        "colab_type": "code",
        "colab": {
          "base_uri": "https://localhost:8080/",
          "height": 102
        },
        "outputId": "f861c9ca-135c-4563-cd13-c338affdf91e"
      },
      "cell_type": "code",
      "source": [
        "# all symbol for a date (selection on the inner level)\n",
        "ser.loc[:,'2016-10-03']"
      ],
      "execution_count": 18,
      "outputs": [
        {
          "output_type": "execute_result",
          "data": {
            "text/plain": [
              "Symbol\n",
              "AAPL    112.52\n",
              "CSCO     31.50\n",
              "MSFT     57.42\n",
              "Name: Close, dtype: float64"
            ]
          },
          "metadata": {
            "tags": []
          },
          "execution_count": 18
        }
      ]
    },
    {
      "metadata": {
        "id": "GQuGhqmFQ5yH",
        "colab_type": "code",
        "colab": {
          "base_uri": "https://localhost:8080/",
          "height": 173
        },
        "outputId": "dfe52b9d-accc-4750-b498-786f6a7cc17c"
      },
      "cell_type": "code",
      "source": [
        "df"
      ],
      "execution_count": 19,
      "outputs": [
        {
          "output_type": "execute_result",
          "data": {
            "text/html": [
              "<div>\n",
              "<style scoped>\n",
              "    .dataframe tbody tr th:only-of-type {\n",
              "        vertical-align: middle;\n",
              "    }\n",
              "\n",
              "    .dataframe tbody tr th {\n",
              "        vertical-align: top;\n",
              "    }\n",
              "\n",
              "    .dataframe thead th {\n",
              "        text-align: right;\n",
              "    }\n",
              "</style>\n",
              "<table border=\"1\" class=\"dataframe\">\n",
              "  <thead>\n",
              "    <tr style=\"text-align: right;\">\n",
              "      <th>Date</th>\n",
              "      <th>2016-10-03</th>\n",
              "      <th>2016-10-04</th>\n",
              "      <th>2016-10-05</th>\n",
              "    </tr>\n",
              "    <tr>\n",
              "      <th>Symbol</th>\n",
              "      <th></th>\n",
              "      <th></th>\n",
              "      <th></th>\n",
              "    </tr>\n",
              "  </thead>\n",
              "  <tbody>\n",
              "    <tr>\n",
              "      <th>AAPL</th>\n",
              "      <td>112.52</td>\n",
              "      <td>113.00</td>\n",
              "      <td>113.05</td>\n",
              "    </tr>\n",
              "    <tr>\n",
              "      <th>CSCO</th>\n",
              "      <td>31.50</td>\n",
              "      <td>31.35</td>\n",
              "      <td>31.59</td>\n",
              "    </tr>\n",
              "    <tr>\n",
              "      <th>MSFT</th>\n",
              "      <td>57.42</td>\n",
              "      <td>57.24</td>\n",
              "      <td>57.64</td>\n",
              "    </tr>\n",
              "  </tbody>\n",
              "</table>\n",
              "</div>"
            ],
            "text/plain": [
              "Date    2016-10-03  2016-10-04  2016-10-05\n",
              "Symbol                                    \n",
              "AAPL        112.52      113.00      113.05\n",
              "CSCO         31.50       31.35       31.59\n",
              "MSFT         57.42       57.24       57.64"
            ]
          },
          "metadata": {
            "tags": []
          },
          "execution_count": 19
        }
      ]
    },
    {
      "metadata": {
        "id": "N5JNkxIGRNIr",
        "colab_type": "code",
        "colab": {
          "base_uri": "https://localhost:8080/",
          "height": 34
        },
        "outputId": "a9ac1340-dc09-4c86-85c7-3f03bfddde43"
      },
      "cell_type": "code",
      "source": [
        "df.index"
      ],
      "execution_count": 20,
      "outputs": [
        {
          "output_type": "execute_result",
          "data": {
            "text/plain": [
              "Index(['AAPL', 'CSCO', 'MSFT'], dtype='object', name='Symbol')"
            ]
          },
          "metadata": {
            "tags": []
          },
          "execution_count": 20
        }
      ]
    },
    {
      "metadata": {
        "id": "-R_jg_vkRX-j",
        "colab_type": "code",
        "colab": {}
      },
      "cell_type": "code",
      "source": [
        "# dataframe with a multi index\n",
        "stocks.set_index(['Symbol','Date'], inplace=True)"
      ],
      "execution_count": 0,
      "outputs": []
    },
    {
      "metadata": {
        "id": "bU-jqfmZRh7g",
        "colab_type": "code",
        "colab": {
          "base_uri": "https://localhost:8080/",
          "height": 68
        },
        "outputId": "def67fcc-a969-4beb-d25b-ad789f926c43"
      },
      "cell_type": "code",
      "source": [
        "stocks.index"
      ],
      "execution_count": 23,
      "outputs": [
        {
          "output_type": "execute_result",
          "data": {
            "text/plain": [
              "MultiIndex(levels=[['AAPL', 'CSCO', 'MSFT'], ['2016-10-03', '2016-10-04', '2016-10-05']],\n",
              "           labels=[[1, 0, 2, 0, 2, 1, 2, 1, 0], [0, 0, 0, 1, 1, 1, 2, 2, 2]],\n",
              "           names=['Symbol', 'Date'])"
            ]
          },
          "metadata": {
            "tags": []
          },
          "execution_count": 23
        }
      ]
    },
    {
      "metadata": {
        "id": "qzPbEUNiRtBQ",
        "colab_type": "code",
        "colab": {
          "base_uri": "https://localhost:8080/",
          "height": 359
        },
        "outputId": "4168fd2a-6444-4a98-8de2-9a96a82e7b58"
      },
      "cell_type": "code",
      "source": [
        "stocks"
      ],
      "execution_count": 24,
      "outputs": [
        {
          "output_type": "execute_result",
          "data": {
            "text/html": [
              "<div>\n",
              "<style scoped>\n",
              "    .dataframe tbody tr th:only-of-type {\n",
              "        vertical-align: middle;\n",
              "    }\n",
              "\n",
              "    .dataframe tbody tr th {\n",
              "        vertical-align: top;\n",
              "    }\n",
              "\n",
              "    .dataframe thead th {\n",
              "        text-align: right;\n",
              "    }\n",
              "</style>\n",
              "<table border=\"1\" class=\"dataframe\">\n",
              "  <thead>\n",
              "    <tr style=\"text-align: right;\">\n",
              "      <th></th>\n",
              "      <th></th>\n",
              "      <th>Close</th>\n",
              "      <th>Volume</th>\n",
              "    </tr>\n",
              "    <tr>\n",
              "      <th>Symbol</th>\n",
              "      <th>Date</th>\n",
              "      <th></th>\n",
              "      <th></th>\n",
              "    </tr>\n",
              "  </thead>\n",
              "  <tbody>\n",
              "    <tr>\n",
              "      <th>CSCO</th>\n",
              "      <th>2016-10-03</th>\n",
              "      <td>31.50</td>\n",
              "      <td>14070500</td>\n",
              "    </tr>\n",
              "    <tr>\n",
              "      <th>AAPL</th>\n",
              "      <th>2016-10-03</th>\n",
              "      <td>112.52</td>\n",
              "      <td>21701800</td>\n",
              "    </tr>\n",
              "    <tr>\n",
              "      <th>MSFT</th>\n",
              "      <th>2016-10-03</th>\n",
              "      <td>57.42</td>\n",
              "      <td>19189500</td>\n",
              "    </tr>\n",
              "    <tr>\n",
              "      <th>AAPL</th>\n",
              "      <th>2016-10-04</th>\n",
              "      <td>113.00</td>\n",
              "      <td>29736800</td>\n",
              "    </tr>\n",
              "    <tr>\n",
              "      <th>MSFT</th>\n",
              "      <th>2016-10-04</th>\n",
              "      <td>57.24</td>\n",
              "      <td>20085900</td>\n",
              "    </tr>\n",
              "    <tr>\n",
              "      <th>CSCO</th>\n",
              "      <th>2016-10-04</th>\n",
              "      <td>31.35</td>\n",
              "      <td>18460400</td>\n",
              "    </tr>\n",
              "    <tr>\n",
              "      <th>MSFT</th>\n",
              "      <th>2016-10-05</th>\n",
              "      <td>57.64</td>\n",
              "      <td>16726400</td>\n",
              "    </tr>\n",
              "    <tr>\n",
              "      <th>CSCO</th>\n",
              "      <th>2016-10-05</th>\n",
              "      <td>31.59</td>\n",
              "      <td>11808600</td>\n",
              "    </tr>\n",
              "    <tr>\n",
              "      <th>AAPL</th>\n",
              "      <th>2016-10-05</th>\n",
              "      <td>113.05</td>\n",
              "      <td>21453100</td>\n",
              "    </tr>\n",
              "  </tbody>\n",
              "</table>\n",
              "</div>"
            ],
            "text/plain": [
              "                    Close    Volume\n",
              "Symbol Date                        \n",
              "CSCO   2016-10-03   31.50  14070500\n",
              "AAPL   2016-10-03  112.52  21701800\n",
              "MSFT   2016-10-03   57.42  19189500\n",
              "AAPL   2016-10-04  113.00  29736800\n",
              "MSFT   2016-10-04   57.24  20085900\n",
              "CSCO   2016-10-04   31.35  18460400\n",
              "MSFT   2016-10-05   57.64  16726400\n",
              "CSCO   2016-10-05   31.59  11808600\n",
              "AAPL   2016-10-05  113.05  21453100"
            ]
          },
          "metadata": {
            "tags": []
          },
          "execution_count": 24
        }
      ]
    },
    {
      "metadata": {
        "id": "EubGjv6-RwGn",
        "colab_type": "code",
        "colab": {}
      },
      "cell_type": "code",
      "source": [
        "# lets sort the data on the index\n",
        "stocks.sort_index(inplace=True)"
      ],
      "execution_count": 0,
      "outputs": []
    },
    {
      "metadata": {
        "id": "jsaLf92tR37C",
        "colab_type": "code",
        "colab": {
          "base_uri": "https://localhost:8080/",
          "height": 359
        },
        "outputId": "7766b28b-6343-434a-dc48-d7a534e18754"
      },
      "cell_type": "code",
      "source": [
        "stocks"
      ],
      "execution_count": 26,
      "outputs": [
        {
          "output_type": "execute_result",
          "data": {
            "text/html": [
              "<div>\n",
              "<style scoped>\n",
              "    .dataframe tbody tr th:only-of-type {\n",
              "        vertical-align: middle;\n",
              "    }\n",
              "\n",
              "    .dataframe tbody tr th {\n",
              "        vertical-align: top;\n",
              "    }\n",
              "\n",
              "    .dataframe thead th {\n",
              "        text-align: right;\n",
              "    }\n",
              "</style>\n",
              "<table border=\"1\" class=\"dataframe\">\n",
              "  <thead>\n",
              "    <tr style=\"text-align: right;\">\n",
              "      <th></th>\n",
              "      <th></th>\n",
              "      <th>Close</th>\n",
              "      <th>Volume</th>\n",
              "    </tr>\n",
              "    <tr>\n",
              "      <th>Symbol</th>\n",
              "      <th>Date</th>\n",
              "      <th></th>\n",
              "      <th></th>\n",
              "    </tr>\n",
              "  </thead>\n",
              "  <tbody>\n",
              "    <tr>\n",
              "      <th rowspan=\"3\" valign=\"top\">AAPL</th>\n",
              "      <th>2016-10-03</th>\n",
              "      <td>112.52</td>\n",
              "      <td>21701800</td>\n",
              "    </tr>\n",
              "    <tr>\n",
              "      <th>2016-10-04</th>\n",
              "      <td>113.00</td>\n",
              "      <td>29736800</td>\n",
              "    </tr>\n",
              "    <tr>\n",
              "      <th>2016-10-05</th>\n",
              "      <td>113.05</td>\n",
              "      <td>21453100</td>\n",
              "    </tr>\n",
              "    <tr>\n",
              "      <th rowspan=\"3\" valign=\"top\">CSCO</th>\n",
              "      <th>2016-10-03</th>\n",
              "      <td>31.50</td>\n",
              "      <td>14070500</td>\n",
              "    </tr>\n",
              "    <tr>\n",
              "      <th>2016-10-04</th>\n",
              "      <td>31.35</td>\n",
              "      <td>18460400</td>\n",
              "    </tr>\n",
              "    <tr>\n",
              "      <th>2016-10-05</th>\n",
              "      <td>31.59</td>\n",
              "      <td>11808600</td>\n",
              "    </tr>\n",
              "    <tr>\n",
              "      <th rowspan=\"3\" valign=\"top\">MSFT</th>\n",
              "      <th>2016-10-03</th>\n",
              "      <td>57.42</td>\n",
              "      <td>19189500</td>\n",
              "    </tr>\n",
              "    <tr>\n",
              "      <th>2016-10-04</th>\n",
              "      <td>57.24</td>\n",
              "      <td>20085900</td>\n",
              "    </tr>\n",
              "    <tr>\n",
              "      <th>2016-10-05</th>\n",
              "      <td>57.64</td>\n",
              "      <td>16726400</td>\n",
              "    </tr>\n",
              "  </tbody>\n",
              "</table>\n",
              "</div>"
            ],
            "text/plain": [
              "                    Close    Volume\n",
              "Symbol Date                        \n",
              "AAPL   2016-10-03  112.52  21701800\n",
              "       2016-10-04  113.00  29736800\n",
              "       2016-10-05  113.05  21453100\n",
              "CSCO   2016-10-03   31.50  14070500\n",
              "       2016-10-04   31.35  18460400\n",
              "       2016-10-05   31.59  11808600\n",
              "MSFT   2016-10-03   57.42  19189500\n",
              "       2016-10-04   57.24  20085900\n",
              "       2016-10-05   57.64  16726400"
            ]
          },
          "metadata": {
            "tags": []
          },
          "execution_count": 26
        }
      ]
    },
    {
      "metadata": {
        "id": "TevcdmXkR51c",
        "colab_type": "code",
        "colab": {
          "base_uri": "https://localhost:8080/",
          "height": 173
        },
        "outputId": "0e26dac3-abfd-44a5-ff59-97705fdcb1f5"
      },
      "cell_type": "code",
      "source": [
        "stocks.loc['AAPL']"
      ],
      "execution_count": 28,
      "outputs": [
        {
          "output_type": "execute_result",
          "data": {
            "text/html": [
              "<div>\n",
              "<style scoped>\n",
              "    .dataframe tbody tr th:only-of-type {\n",
              "        vertical-align: middle;\n",
              "    }\n",
              "\n",
              "    .dataframe tbody tr th {\n",
              "        vertical-align: top;\n",
              "    }\n",
              "\n",
              "    .dataframe thead th {\n",
              "        text-align: right;\n",
              "    }\n",
              "</style>\n",
              "<table border=\"1\" class=\"dataframe\">\n",
              "  <thead>\n",
              "    <tr style=\"text-align: right;\">\n",
              "      <th></th>\n",
              "      <th>Close</th>\n",
              "      <th>Volume</th>\n",
              "    </tr>\n",
              "    <tr>\n",
              "      <th>Date</th>\n",
              "      <th></th>\n",
              "      <th></th>\n",
              "    </tr>\n",
              "  </thead>\n",
              "  <tbody>\n",
              "    <tr>\n",
              "      <th>2016-10-03</th>\n",
              "      <td>112.52</td>\n",
              "      <td>21701800</td>\n",
              "    </tr>\n",
              "    <tr>\n",
              "      <th>2016-10-04</th>\n",
              "      <td>113.00</td>\n",
              "      <td>29736800</td>\n",
              "    </tr>\n",
              "    <tr>\n",
              "      <th>2016-10-05</th>\n",
              "      <td>113.05</td>\n",
              "      <td>21453100</td>\n",
              "    </tr>\n",
              "  </tbody>\n",
              "</table>\n",
              "</div>"
            ],
            "text/plain": [
              "             Close    Volume\n",
              "Date                        \n",
              "2016-10-03  112.52  21701800\n",
              "2016-10-04  113.00  29736800\n",
              "2016-10-05  113.05  21453100"
            ]
          },
          "metadata": {
            "tags": []
          },
          "execution_count": 28
        }
      ]
    },
    {
      "metadata": {
        "id": "axacxTWsSAJr",
        "colab_type": "code",
        "colab": {
          "base_uri": "https://localhost:8080/",
          "height": 68
        },
        "outputId": "cdb7907f-441c-4134-e84e-629b4e8fd16f"
      },
      "cell_type": "code",
      "source": [
        "#apple on oct 3rd\n",
        "stocks.loc['AAPL','2016-10-03']"
      ],
      "execution_count": 29,
      "outputs": [
        {
          "output_type": "execute_result",
          "data": {
            "text/plain": [
              "Close          112.52\n",
              "Volume    21701800.00\n",
              "Name: (AAPL, 2016-10-03), dtype: float64"
            ]
          },
          "metadata": {
            "tags": []
          },
          "execution_count": 29
        }
      ]
    },
    {
      "metadata": {
        "id": "KwWbGW2cSLsR",
        "colab_type": "code",
        "colab": {
          "base_uri": "https://localhost:8080/",
          "height": 68
        },
        "outputId": "572420c9-9eae-41ad-e350-d116252acf38"
      },
      "cell_type": "code",
      "source": [
        "# better way to do it\n",
        "stocks.loc[('AAPL','2016-10-03'),:]"
      ],
      "execution_count": 30,
      "outputs": [
        {
          "output_type": "execute_result",
          "data": {
            "text/plain": [
              "Close          112.52\n",
              "Volume    21701800.00\n",
              "Name: (AAPL, 2016-10-03), dtype: float64"
            ]
          },
          "metadata": {
            "tags": []
          },
          "execution_count": 30
        }
      ]
    },
    {
      "metadata": {
        "id": "mlADH1OfSYXC",
        "colab_type": "code",
        "colab": {
          "base_uri": "https://localhost:8080/",
          "height": 34
        },
        "outputId": "07322a8c-4588-49c6-bcbd-54dc74dc359a"
      },
      "cell_type": "code",
      "source": [
        "# just to get the close\n",
        "stocks.loc[('AAPL','2016-10-03'),'Close']"
      ],
      "execution_count": 32,
      "outputs": [
        {
          "output_type": "execute_result",
          "data": {
            "text/plain": [
              "112.52"
            ]
          },
          "metadata": {
            "tags": []
          },
          "execution_count": 32
        }
      ]
    },
    {
      "metadata": {
        "id": "adL7CDwlSsXL",
        "colab_type": "code",
        "colab": {
          "base_uri": "https://localhost:8080/",
          "height": 142
        },
        "outputId": "4615fb90-7618-4234-e7d8-f2da048aba14"
      },
      "cell_type": "code",
      "source": [
        "# if i want two different stocks on one day\n",
        "stocks.loc[(['AAPL','MSFT'],'2016-10-03'),:]"
      ],
      "execution_count": 33,
      "outputs": [
        {
          "output_type": "execute_result",
          "data": {
            "text/html": [
              "<div>\n",
              "<style scoped>\n",
              "    .dataframe tbody tr th:only-of-type {\n",
              "        vertical-align: middle;\n",
              "    }\n",
              "\n",
              "    .dataframe tbody tr th {\n",
              "        vertical-align: top;\n",
              "    }\n",
              "\n",
              "    .dataframe thead th {\n",
              "        text-align: right;\n",
              "    }\n",
              "</style>\n",
              "<table border=\"1\" class=\"dataframe\">\n",
              "  <thead>\n",
              "    <tr style=\"text-align: right;\">\n",
              "      <th></th>\n",
              "      <th></th>\n",
              "      <th>Close</th>\n",
              "      <th>Volume</th>\n",
              "    </tr>\n",
              "    <tr>\n",
              "      <th>Symbol</th>\n",
              "      <th>Date</th>\n",
              "      <th></th>\n",
              "      <th></th>\n",
              "    </tr>\n",
              "  </thead>\n",
              "  <tbody>\n",
              "    <tr>\n",
              "      <th>AAPL</th>\n",
              "      <th>2016-10-03</th>\n",
              "      <td>112.52</td>\n",
              "      <td>21701800</td>\n",
              "    </tr>\n",
              "    <tr>\n",
              "      <th>MSFT</th>\n",
              "      <th>2016-10-03</th>\n",
              "      <td>57.42</td>\n",
              "      <td>19189500</td>\n",
              "    </tr>\n",
              "  </tbody>\n",
              "</table>\n",
              "</div>"
            ],
            "text/plain": [
              "                    Close    Volume\n",
              "Symbol Date                        \n",
              "AAPL   2016-10-03  112.52  21701800\n",
              "MSFT   2016-10-03   57.42  19189500"
            ]
          },
          "metadata": {
            "tags": []
          },
          "execution_count": 33
        }
      ]
    },
    {
      "metadata": {
        "id": "O_5eXprxTEiA",
        "colab_type": "code",
        "colab": {
          "base_uri": "https://localhost:8080/",
          "height": 85
        },
        "outputId": "331e847a-065c-49a1-e77c-ac7ad87ddf2b"
      },
      "cell_type": "code",
      "source": [
        "# if I just want Close on the day\n",
        "stocks.loc[(['AAPL','MSFT'],'2016-10-03'),'Close']"
      ],
      "execution_count": 34,
      "outputs": [
        {
          "output_type": "execute_result",
          "data": {
            "text/plain": [
              "Symbol  Date      \n",
              "AAPL    2016-10-03    112.52\n",
              "MSFT    2016-10-03     57.42\n",
              "Name: Close, dtype: float64"
            ]
          },
          "metadata": {
            "tags": []
          },
          "execution_count": 34
        }
      ]
    },
    {
      "metadata": {
        "id": "nx3EjaSjTbZ4",
        "colab_type": "code",
        "colab": {
          "base_uri": "https://localhost:8080/",
          "height": 85
        },
        "outputId": "a48ff932-6350-443e-c398-d9acf7e9438d"
      },
      "cell_type": "code",
      "source": [
        "#multiple dates and apple\n",
        "stocks.loc[('AAPL',['2016-10-03','2016-10-04']),'Close']"
      ],
      "execution_count": 36,
      "outputs": [
        {
          "output_type": "execute_result",
          "data": {
            "text/plain": [
              "Symbol  Date      \n",
              "AAPL    2016-10-03    112.52\n",
              "        2016-10-04    113.00\n",
              "Name: Close, dtype: float64"
            ]
          },
          "metadata": {
            "tags": []
          },
          "execution_count": 36
        }
      ]
    },
    {
      "metadata": {
        "id": "DfKNN0FjUALT",
        "colab_type": "code",
        "colab": {
          "base_uri": "https://localhost:8080/",
          "height": 153
        },
        "outputId": "1b50b3ea-9a7e-4d6c-89d0-9a2409ddd39e"
      },
      "cell_type": "code",
      "source": [
        "# above two dates and all stocks\n",
        "stocks.loc[(slice(None),['2016-10-03','2016-10-04']),'Close']"
      ],
      "execution_count": 37,
      "outputs": [
        {
          "output_type": "execute_result",
          "data": {
            "text/plain": [
              "Symbol  Date      \n",
              "AAPL    2016-10-03    112.52\n",
              "        2016-10-04    113.00\n",
              "CSCO    2016-10-03     31.50\n",
              "        2016-10-04     31.35\n",
              "MSFT    2016-10-03     57.42\n",
              "        2016-10-04     57.24\n",
              "Name: Close, dtype: float64"
            ]
          },
          "metadata": {
            "tags": []
          },
          "execution_count": 37
        }
      ]
    },
    {
      "metadata": {
        "id": "MKWXtRl8UAy8",
        "colab_type": "code",
        "colab": {}
      },
      "cell_type": "code",
      "source": [
        ""
      ],
      "execution_count": 0,
      "outputs": []
    }
  ]
}